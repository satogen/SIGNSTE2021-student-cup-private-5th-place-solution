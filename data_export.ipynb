{
  "nbformat": 4,
  "nbformat_minor": 0,
  "metadata": {
    "colab": {
      "name": "data_export.ipynb",
      "provenance": [],
      "collapsed_sections": [],
      "authorship_tag": "ABX9TyOnhzJWgyEL/GwXZqqJV+JC",
      "include_colab_link": true
    },
    "kernelspec": {
      "name": "python3",
      "display_name": "Python 3"
    },
    "language_info": {
      "name": "python"
    }
  },
  "cells": [
    {
      "cell_type": "markdown",
      "metadata": {
        "id": "view-in-github",
        "colab_type": "text"
      },
      "source": [
        "<a href=\"https://colab.research.google.com/github/satogen/SIGNSTE2021-student-cup-private-5th-place-solution/blob/main/data_export.ipynb\" target=\"_parent\"><img src=\"https://colab.research.google.com/assets/colab-badge.svg\" alt=\"Open In Colab\"/></a>"
      ]
    },
    {
      "cell_type": "code",
      "metadata": {
        "colab": {
          "base_uri": "https://localhost:8080/"
        },
        "id": "Z45fkddw7xZL",
        "outputId": "ff356634-65b0-4a77-e07f-3f10addab8ad"
      },
      "source": [
        "# Earth Engine Python APIのインポート\n",
        "import ee\n",
        "# GEEの認証・初期化\n",
        "ee.Authenticate()\n",
        "ee.Initialize()\n",
        "from google.colab import drive\n",
        "drive.mount('/content/drive')"
      ],
      "execution_count": 1,
      "outputs": [
        {
          "output_type": "stream",
          "text": [
            "To authorize access needed by Earth Engine, open the following URL in a web browser and follow the instructions. If the web browser does not start automatically, please manually browse the URL below.\n",
            "\n",
            "    https://accounts.google.com/o/oauth2/auth?client_id=517222506229-vsmmajv00ul0bs7p89v5m89qs8eb9359.apps.googleusercontent.com&scope=https%3A%2F%2Fwww.googleapis.com%2Fauth%2Fearthengine+https%3A%2F%2Fwww.googleapis.com%2Fauth%2Fdevstorage.full_control&redirect_uri=urn%3Aietf%3Awg%3Aoauth%3A2.0%3Aoob&response_type=code&code_challenge=CYNkW2Es5bRbKAlhwbIvaEjJTEMtJ-u8e4wXnePdN1k&code_challenge_method=S256\n",
            "\n",
            "The authorization workflow will generate a code, which you should paste in the box below. \n",
            "Enter verification code: 4/1AX4XfWiWOnx01l1i5_JFhjiV6mRK2ZuaD_fg4neTkGIdwfmYOX_meaPNq3s\n",
            "\n",
            "Successfully saved authorization token.\n",
            "Mounted at /content/drive\n"
          ],
          "name": "stdout"
        }
      ]
    },
    {
      "cell_type": "code",
      "metadata": {
        "id": "ZhMXsxKgCE5a"
      },
      "source": [
        "!!pip install geopandas"
      ],
      "execution_count": null,
      "outputs": []
    },
    {
      "cell_type": "code",
      "metadata": {
        "id": "6HSvaxjqCD1j"
      },
      "source": [
        "import os\n",
        "import  json\n",
        "\n",
        "import numpy as np\n",
        "\n",
        "import geopandas as gpd\n",
        "from PIL import Image\n",
        "import matplotlib.pyplot as plt"
      ],
      "execution_count": 109,
      "outputs": []
    },
    {
      "cell_type": "code",
      "metadata": {
        "id": "hhetSNn18_xX"
      },
      "source": [
        "class CFG:\n",
        "  POINT_GJSON = \"/content/drive/MyDrive/卒業研究/data/polygonsToDriveExample.geojson\"\n",
        "\n",
        "  # 保存情報\n",
        "  SAVE_DRIVE_PATH = '/content/drive/MyDrive/卒業研究/data/nighttimeData'\n",
        "  SAVE_DRIVE_FOLDER = 'nighttimeData'\n",
        "  SCALE = 100\n",
        "\n",
        "  # 対象面積の測定\n",
        "  AREA = 50000 * 50000\n",
        "\n",
        "  # 衛星情報\n",
        "  SATELLITE = 'NOAA/VIIRS/DNB/MONTHLY_V1/VCMSLCFG'\n",
        "  BAND_NAME = 'avg_rad'\n",
        "  FROM_DATE='2017-05-01'\n",
        "  TO_DATE='2017-05-31'\n"
      ],
      "execution_count": 110,
      "outputs": []
    },
    {
      "cell_type": "code",
      "metadata": {
        "id": "-RccdFUuKSb3"
      },
      "source": [
        "class DataExporter():\n",
        "  \"\"\"\n",
        "  Google Earth Engineからデータをダウンロードする\n",
        "\n",
        "  Attributes\n",
        "  ----------\n",
        "  dataset : ee.ImageCollection\n",
        "    対象のデータセット\n",
        "  dataset_image : ee.image.Image\n",
        "    ダウンロード対象の画像\n",
        "  satellite : str\n",
        "    ダウンロード対象の衛星\n",
        "  from_date : str\n",
        "    測定開始日\n",
        "  \"\"\"\n",
        "  def __init__(self, satellite=CFG.SATELLITE, from_date=CFG.FROM_DATE, to_date=CFG.TO_DATE, band_name=CFG.BAND_NAME):\n",
        "    self.dataset = ''\n",
        "    self.dataset_image = ''\n",
        "\n",
        "    self.satellite = satellite\n",
        "    self.band_name = band_name\n",
        "    self.from_date = from_date\n",
        "    self.to_date = to_date\n",
        "\n",
        "    self.read_point()\n",
        "\n",
        "  def select_dataset(self):\n",
        "    \"\"\"\n",
        "    データセットの取得をする\n",
        "    \"\"\"\n",
        "    self.dataset = ee.ImageCollection(self.satellite).filter(ee.Filter.date(self.from_date, self.to_date))\n",
        "\n",
        "  def select_band(self):\n",
        "    \"\"\"\n",
        "    対象データセットのバンドの指定と対象データセットの指定をする\n",
        "    \"\"\"\n",
        "    self.dataset_image = dataset.select(self.band_name).median()\n",
        "\n",
        "  def select(self):\n",
        "    \"\"\"\n",
        "    画像とバンドの取得を同時にする\n",
        "    \"\"\"\n",
        "    self.select_dataset()\n",
        "    self.select_band()\n",
        "\n",
        "  def save_image(self, file_name, polygon, save_folder=CFG.SAVE_DRIVE_FOLDER, scale=CFG.SCALE):\n",
        "    \"\"\"\n",
        "    画像の保存をする\n",
        "\n",
        "    Parameters\n",
        "    ----------\n",
        "    file_name : str\n",
        "        ファイルの名前\n",
        "    polygon : ee.geometry.Geometry\n",
        "        ポリゴンデータ\n",
        "    save_path : str\n",
        "        保存対象のパス\n",
        "    scale : int\n",
        "        画像のスケール\n",
        "    \"\"\"\n",
        "    # Gdriveへ保存\n",
        "    task = ee.batch.Export.image.toDrive(**{\n",
        "        'image': self.dataset_image,\n",
        "        'description': file_name,\n",
        "        'folder':save_folder, # \n",
        "        'scale': scale,\n",
        "        'region': polygon\n",
        "    })\n",
        "\n",
        "    # 処理の実行\n",
        "    task.start()\n",
        "\n",
        "  def read_point(self, point_json_path=CFG.POINT_GJSON):\n",
        "    \"\"\"\n",
        "    ポイントの読み込み\n",
        "    \"\"\"\n",
        "    self.point_src = gpd.read_file(point_json_path)\n",
        "    self.point_features = json.loads(self.point_src.to_json())['features']\n",
        "\n",
        "  def get_point(self, index):\n",
        "    \"\"\"\n",
        "    Featuresから緯度経度を取得\n",
        "    \"\"\"\n",
        "    return ee.Geometry.Point(self.point_features[index]['geometry']['coordinates'])\n",
        "\n",
        "  def get_polygon(self, index, area=CFG.AREA):\n",
        "    \"\"\"\n",
        "    ポイントデータからAreaに沿うように、ポリゴンを作成\n",
        "    \"\"\"\n",
        "    return self.point_list[index].buffer(ee.Number(area).sqrt().divide(2), 1).bounds()\n",
        "\n",
        "  def create_all_polygon(self):\n",
        "    \"\"\"\n",
        "    全てのポリゴンを作成\n",
        "    \"\"\"\n",
        "    self.point_list = [self.get_point(i) for i in range(len(self.point_features))]\n",
        "    self.polygon_list = [self.get_polygon(i) for i in range(len(self.point_list))]\n",
        "    return polygon_list"
      ],
      "execution_count": 101,
      "outputs": []
    },
    {
      "cell_type": "code",
      "metadata": {
        "id": "hGKAkvp1PH3B"
      },
      "source": [
        "viirs_exporter = DataExporter()\n",
        "viirs_exporter.select()\n",
        "polygons = viirs_exporter.create_all_polygon()"
      ],
      "execution_count": 102,
      "outputs": []
    },
    {
      "cell_type": "code",
      "metadata": {
        "id": "kDVtx1RaPIAe"
      },
      "source": [
        "polygons = exporter.create_all_polygon()"
      ],
      "execution_count": 103,
      "outputs": []
    },
    {
      "cell_type": "code",
      "metadata": {
        "id": "KNYWANVecd8m"
      },
      "source": [
        "# 画像の保存\n",
        "for i in range(len(polygons)):\n",
        "  viirs_exporter.save_image(\"export_image_{}\".format(i), polygons[i])"
      ],
      "execution_count": 107,
      "outputs": []
    }
  ]
}